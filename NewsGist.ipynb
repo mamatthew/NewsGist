{
 "cells": [
  {
   "cell_type": "code",
   "execution_count": 14,
   "id": "f7c9cc59",
   "metadata": {},
   "outputs": [
    {
     "name": "stdout",
     "output_type": "stream",
     "text": [
      "Requirement already satisfied: python-dotenv in c:\\users\\matth\\appdata\\local\\programs\\python\\python310\\lib\\site-packages (1.0.1)\n",
      "Requirement already satisfied: newsdataapi in c:\\users\\matth\\appdata\\local\\programs\\python\\python310\\lib\\site-packages (0.1.21)\n",
      "Requirement already satisfied: requests<3.0.0 in c:\\users\\matth\\appdata\\local\\programs\\python\\python310\\lib\\site-packages (from newsdataapi) (2.28.1)\n",
      "Requirement already satisfied: charset-normalizer<3,>=2 in c:\\users\\matth\\appdata\\local\\programs\\python\\python310\\lib\\site-packages (from requests<3.0.0->newsdataapi) (2.1.1)\n",
      "Requirement already satisfied: idna<4,>=2.5 in c:\\users\\matth\\appdata\\local\\programs\\python\\python310\\lib\\site-packages (from requests<3.0.0->newsdataapi) (3.3)\n",
      "Requirement already satisfied: urllib3<1.27,>=1.21.1 in c:\\users\\matth\\appdata\\local\\programs\\python\\python310\\lib\\site-packages (from requests<3.0.0->newsdataapi) (1.26.12)\n",
      "Requirement already satisfied: certifi>=2017.4.17 in c:\\users\\matth\\appdata\\local\\programs\\python\\python310\\lib\\site-packages (from requests<3.0.0->newsdataapi) (2022.6.15.1)\n",
      "Requirement already satisfied: openai in c:\\users\\matth\\appdata\\local\\programs\\python\\python310\\lib\\site-packages (1.53.0)\n",
      "Requirement already satisfied: anyio<5,>=3.5.0 in c:\\users\\matth\\appdata\\local\\programs\\python\\python310\\lib\\site-packages (from openai) (3.6.1)\n",
      "Requirement already satisfied: distro<2,>=1.7.0 in c:\\users\\matth\\appdata\\local\\programs\\python\\python310\\lib\\site-packages (from openai) (1.9.0)\n",
      "Requirement already satisfied: httpx<1,>=0.23.0 in c:\\users\\matth\\appdata\\local\\programs\\python\\python310\\lib\\site-packages (from openai) (0.27.2)\n",
      "Requirement already satisfied: jiter<1,>=0.4.0 in c:\\users\\matth\\appdata\\local\\programs\\python\\python310\\lib\\site-packages (from openai) (0.7.0)\n",
      "Requirement already satisfied: pydantic<3,>=1.9.0 in c:\\users\\matth\\appdata\\local\\programs\\python\\python310\\lib\\site-packages (from openai) (1.10.2)\n",
      "Requirement already satisfied: sniffio in c:\\users\\matth\\appdata\\local\\programs\\python\\python310\\lib\\site-packages (from openai) (1.3.0)\n",
      "Requirement already satisfied: tqdm>4 in c:\\users\\matth\\appdata\\local\\programs\\python\\python310\\lib\\site-packages (from openai) (4.64.1)\n",
      "Requirement already satisfied: typing-extensions<5,>=4.11 in c:\\users\\matth\\appdata\\local\\programs\\python\\python310\\lib\\site-packages (from openai) (4.12.2)\n",
      "Requirement already satisfied: idna>=2.8 in c:\\users\\matth\\appdata\\local\\programs\\python\\python310\\lib\\site-packages (from anyio<5,>=3.5.0->openai) (3.3)\n",
      "Requirement already satisfied: certifi in c:\\users\\matth\\appdata\\local\\programs\\python\\python310\\lib\\site-packages (from httpx<1,>=0.23.0->openai) (2022.6.15.1)\n",
      "Requirement already satisfied: httpcore==1.* in c:\\users\\matth\\appdata\\local\\programs\\python\\python310\\lib\\site-packages (from httpx<1,>=0.23.0->openai) (1.0.6)\n",
      "Requirement already satisfied: h11<0.15,>=0.13 in c:\\users\\matth\\appdata\\local\\programs\\python\\python310\\lib\\site-packages (from httpcore==1.*->httpx<1,>=0.23.0->openai) (0.14.0)\n",
      "Requirement already satisfied: colorama in c:\\users\\matth\\appdata\\local\\programs\\python\\python310\\lib\\site-packages (from tqdm>4->openai) (0.4.5)\n",
      "Requirement already satisfied: pandas in c:\\users\\matth\\appdata\\local\\programs\\python\\python310\\lib\\site-packages (1.4.4)\n",
      "Requirement already satisfied: python-dateutil>=2.8.1 in c:\\users\\matth\\appdata\\local\\programs\\python\\python310\\lib\\site-packages (from pandas) (2.8.2)\n",
      "Requirement already satisfied: pytz>=2020.1 in c:\\users\\matth\\appdata\\local\\programs\\python\\python310\\lib\\site-packages (from pandas) (2022.2.1)\n",
      "Requirement already satisfied: numpy>=1.21.0 in c:\\users\\matth\\appdata\\local\\programs\\python\\python310\\lib\\site-packages (from pandas) (1.23.3)\n",
      "Requirement already satisfied: six>=1.5 in c:\\users\\matth\\appdata\\local\\programs\\python\\python310\\lib\\site-packages (from python-dateutil>=2.8.1->pandas) (1.16.0)\n",
      "Requirement already satisfied: matplotlib in c:\\users\\matth\\appdata\\local\\programs\\python\\python310\\lib\\site-packages (3.8.0)\n",
      "Requirement already satisfied: contourpy>=1.0.1 in c:\\users\\matth\\appdata\\local\\programs\\python\\python310\\lib\\site-packages (from matplotlib) (1.1.1)\n",
      "Requirement already satisfied: cycler>=0.10 in c:\\users\\matth\\appdata\\local\\programs\\python\\python310\\lib\\site-packages (from matplotlib) (0.12.1)\n",
      "Requirement already satisfied: fonttools>=4.22.0 in c:\\users\\matth\\appdata\\local\\programs\\python\\python310\\lib\\site-packages (from matplotlib) (4.43.1)\n",
      "Requirement already satisfied: kiwisolver>=1.0.1 in c:\\users\\matth\\appdata\\local\\programs\\python\\python310\\lib\\site-packages (from matplotlib) (1.4.5)\n",
      "Requirement already satisfied: numpy<2,>=1.21 in c:\\users\\matth\\appdata\\local\\programs\\python\\python310\\lib\\site-packages (from matplotlib) (1.23.3)\n",
      "Requirement already satisfied: packaging>=20.0 in c:\\users\\matth\\appdata\\local\\programs\\python\\python310\\lib\\site-packages (from matplotlib) (21.3)\n",
      "Requirement already satisfied: pillow>=6.2.0 in c:\\users\\matth\\appdata\\local\\programs\\python\\python310\\lib\\site-packages (from matplotlib) (10.0.1)\n",
      "Requirement already satisfied: pyparsing>=2.3.1 in c:\\users\\matth\\appdata\\local\\programs\\python\\python310\\lib\\site-packages (from matplotlib) (3.0.9)\n",
      "Requirement already satisfied: python-dateutil>=2.7 in c:\\users\\matth\\appdata\\local\\programs\\python\\python310\\lib\\site-packages (from matplotlib) (2.8.2)\n",
      "Requirement already satisfied: six>=1.5 in c:\\users\\matth\\appdata\\local\\programs\\python\\python310\\lib\\site-packages (from python-dateutil>=2.7->matplotlib) (1.16.0)\n",
      "Collecting wordcloud\n",
      "  Downloading wordcloud-1.9.3-cp310-cp310-win_amd64.whl.metadata (3.5 kB)\n",
      "Requirement already satisfied: numpy>=1.6.1 in c:\\users\\matth\\appdata\\local\\programs\\python\\python310\\lib\\site-packages (from wordcloud) (1.23.3)\n",
      "Requirement already satisfied: pillow in c:\\users\\matth\\appdata\\local\\programs\\python\\python310\\lib\\site-packages (from wordcloud) (10.0.1)\n",
      "Requirement already satisfied: matplotlib in c:\\users\\matth\\appdata\\local\\programs\\python\\python310\\lib\\site-packages (from wordcloud) (3.8.0)\n",
      "Requirement already satisfied: contourpy>=1.0.1 in c:\\users\\matth\\appdata\\local\\programs\\python\\python310\\lib\\site-packages (from matplotlib->wordcloud) (1.1.1)\n",
      "Requirement already satisfied: cycler>=0.10 in c:\\users\\matth\\appdata\\local\\programs\\python\\python310\\lib\\site-packages (from matplotlib->wordcloud) (0.12.1)\n",
      "Requirement already satisfied: fonttools>=4.22.0 in c:\\users\\matth\\appdata\\local\\programs\\python\\python310\\lib\\site-packages (from matplotlib->wordcloud) (4.43.1)\n",
      "Requirement already satisfied: kiwisolver>=1.0.1 in c:\\users\\matth\\appdata\\local\\programs\\python\\python310\\lib\\site-packages (from matplotlib->wordcloud) (1.4.5)\n",
      "Requirement already satisfied: packaging>=20.0 in c:\\users\\matth\\appdata\\local\\programs\\python\\python310\\lib\\site-packages (from matplotlib->wordcloud) (21.3)\n",
      "Requirement already satisfied: pyparsing>=2.3.1 in c:\\users\\matth\\appdata\\local\\programs\\python\\python310\\lib\\site-packages (from matplotlib->wordcloud) (3.0.9)\n",
      "Requirement already satisfied: python-dateutil>=2.7 in c:\\users\\matth\\appdata\\local\\programs\\python\\python310\\lib\\site-packages (from matplotlib->wordcloud) (2.8.2)\n",
      "Requirement already satisfied: six>=1.5 in c:\\users\\matth\\appdata\\local\\programs\\python\\python310\\lib\\site-packages (from python-dateutil>=2.7->matplotlib->wordcloud) (1.16.0)\n",
      "Downloading wordcloud-1.9.3-cp310-cp310-win_amd64.whl (299 kB)\n",
      "Installing collected packages: wordcloud\n",
      "Successfully installed wordcloud-1.9.3\n"
     ]
    }
   ],
   "source": [
    "!pip install python-dotenv\n",
    "!pip install newsdataapi\n",
    "!pip install openai\n",
    "!pip install matplotlib"
   ]
  },
  {
   "cell_type": "code",
   "execution_count": 15,
   "id": "e20dd277",
   "metadata": {},
   "outputs": [],
   "source": [
    "from dotenv import load_dotenv\n",
    "from newsdataapi import NewsDataApiClient\n",
    "import os\n",
    "import openai\n",
    "import requests\n"
   ]
  },
  {
   "cell_type": "code",
   "execution_count": 7,
   "id": "19a59b90",
   "metadata": {},
   "outputs": [],
   "source": [
    "load_dotenv()\n",
    "\n",
    "open_ai_api_key = os.getenv('OPENAI_API_KEY')\n",
    "newsdata_api_key = os.getenv('NEWSIO_API_KEY')\n",
    "\n",
    "newsdata_api = NewsDataApiClient(apikey=newsdata_api_key)"
   ]
  },
  {
   "cell_type": "code",
   "execution_count": 4,
   "id": "377166f3",
   "metadata": {},
   "outputs": [
    {
     "name": "stdout",
     "output_type": "stream",
     "text": [
      "Enter a query for news articles: Hamas\n"
     ]
    }
   ],
   "source": [
    "# Fetches the latest news articles based on the provided query\n",
    "def get_news_articles(query):\n",
    "    url = f'https://newsdata.io/api/1/latest?apikey={newsdata_api_key}&q={query}&language=en'\n",
    "    response = requests.get(url)\n",
    "    if (response.status_code == 200):\n",
    "        return response.json()\n",
    "    else:\n",
    "        print(\"Error fetching articles.\")\n",
    "        return None\n",
    "\n",
    "# Prompt the user to enter a query term for the news search\n",
    "user_query = input(\"Enter a query for news articles: \")\n",
    "\n",
    "data = get_news_articles(user_query)"
   ]
  },
  {
   "cell_type": "code",
   "execution_count": 20,
   "id": "68fb4cda",
   "metadata": {},
   "outputs": [
    {
     "name": "stdout",
     "output_type": "stream",
     "text": [
      "[{'title': 'Netanyahu aide arrested over Gaza hostage talks stories', 'source_url': 'https://www.recentlyheard.com', 'description': 'Arrests. Categorised paperwork. And suspected leaks that will have harmed efforts to free hostages held by Hamas so as, critics say, to offer Israeli Prime Minister Benjamin Netanyahu public cowl for failing to comply with a cease-fire deal. Netanyahu was engulfed in scandal Monday over a case involving one among his aides that has despatched ... Read moreThe post Netanyahu aide arrested over Gaza hostage talks stories appeared first on RecentlyHeard: Timely Updates on News, Politics, and Stories Unfolding Across the United States.', 'pub_date': '2024-11-05 07:18:35'}, {'title': 'TRUMP CLINGS TO CONSPIRACIES; HARRIS VISITS MICH. CHURCH', 'source_url': 'https://dothaneagle.com', 'description': 'LITITZ, Pa. — Donald Trump delivered a profane and conspiracy-laden speech two days before Tuesday\\'s presidential election, talking about reporters being shot and suggesting he \"shouldn\\'t have left\" the White House after his 2020 loss to Democrat Joe Biden.', 'pub_date': '2024-11-05 07:17:38'}, {'title': 'Australians awarded Israel’s highest civilian honour for first time', 'source_url': 'https://www.brisbanetimes.com.au', 'description': 'Shopping centre magnate Sir Frank Lowy and prominent lawyer Mark Leibler, AC, have been awarded Israel’s Presidential Medal of Honour.', 'pub_date': '2024-11-05 07:17:12'}, {'title': 'Australians awarded Israel’s highest civilian honour for first time', 'source_url': 'https://www.theage.com.au', 'description': 'Shopping centre magnate Sir Frank Lowy and prominent lawyer Mark Leibler, AC, have been awarded Israel’s Presidential Medal of Honour.', 'pub_date': '2024-11-05 07:17:12'}, {'title': 'Australians awarded Israel’s highest civilian honour for first time', 'source_url': 'https://www.smh.com.au', 'description': 'Shopping centre magnate Sir Frank Lowy and prominent lawyer Mark Leibler, AC, have been awarded Israel’s Presidential Medal of Honour.', 'pub_date': '2024-11-05 07:17:12'}, {'title': 'Netanyahu aide gets detained due to supposed leaks', 'source_url': 'https://menafn.com', 'description': \"(MENAFN) An aide to Israeli Prime Minister Benjamin Netanyahu has been arrested as part of an ongoing investigation into a potential security breach within the Prime Minister's Office, Axios ...\", 'pub_date': '2024-11-05 07:14:54'}, {'title': \"Democrats defend Michigan's open Senate seat, a rare opportunity for Republicans\", 'source_url': 'https://www.newsday.com', 'description': \"Democrat Elissa Slotkin and Republican Mike Rogers are competing for Michigan's open Senate seat.\", 'pub_date': '2024-11-05 07:14:45'}, {'title': 'Coloplast and Vestas grow in the third quarter', 'source_url': 'https://cphpost.dk', 'description': 'Coloplast reported stronger financial results for the past fiscal year. The company, based in Humlebæk, achieved revenue of just over 27 billion kroner, up by more than 2.5 billion kroner from the previous year. Post-tax profit also rose, reaching 5.05 billion kroner—an increase of 269 million kroner. Vestas has bounced back after two weak quarters, [...]Full version of this article is only available to subscribers.Already a subscriber, sign in here:Log inLost your password?Gain unlimited access to all of The Copenhagen PostOur independent reporting can only be published with support from our readers.Monthly subscription119DKK/month.(Billed once a month)Give us a trySignup6 month subscription99DKK/month.(Billed twice a year)Save 120 DKKSignupYearly subscription79DKK/month.(Billed once a year)Save 480 DKKSignupSave with a company subscription?Learn moreThe post Coloplast and Vestas grow in the third quarter appeared first on The Copenhagen Post.', 'pub_date': '2024-11-05 07:14:12'}, {'title': 'US Elections 2024: What could happen to work visas, H-1Bs, and birthright citizenship under Trump or Harris', 'source_url': 'https://www.businesstoday.in', 'description': 'DACA recipients, H-1B visa holders, and those in line for green cards are left in limbo, with both campaigns vague on their plans.', 'pub_date': '2024-11-05 07:09:36'}, {'title': 'Alleged Netanyahu leak may have harmed Gaza hostage deal, says court | Benjamin Netanyahu', 'source_url': 'https://www.recentlyheard.com', 'description': 'An alleged intelligence leak from Benjamin Netanyahu’s workplace has ballooned into a significant scandal for the Israeli prime minister after a courtroom partly lifted a gag order on the case, saying that the affair could have undermined efforts to achieve a hostage deal within the Gaza warfare. 4 individuals have been arrested in reference to ... Read moreThe post Alleged Netanyahu leak may have harmed Gaza hostage deal, says court | Benjamin Netanyahu appeared first on RecentlyHeard: Timely Updates on News, Politics, and Stories Unfolding Across the United States.', 'pub_date': '2024-11-05 07:02:36'}]\n",
      "Row count: 10\n"
     ]
    }
   ],
   "source": [
    "# Extract relevant article information for each article\n",
    "article_info_list = [\n",
    "    {\n",
    "        'title': article['title'],\n",
    "        'source_url': article['source_url'],\n",
    "        'description': article['description'],\n",
    "        'pub_date': article['pubDate']\n",
    "    }\n",
    "    for article in data['results'] if article.get('description')\n",
    "]\n",
    "\n",
    "# Convert the list of dictionaries to a DataFrame\n",
    "article_info_df = pd.DataFrame(article_info_list)\n",
    "\n",
    "# Display the DataFrame\n",
    "print(article_info_df)\n",
    "\n",
    "# Count the number of rows in the DataFrame\n",
    "row_count = article_info_df.shape[0]\n",
    "print(\"Row count:\", row_count)"
   ]
  },
  {
   "cell_type": "code",
   "execution_count": 21,
   "id": "5981d0e3",
   "metadata": {},
   "outputs": [
    {
     "name": "stdout",
     "output_type": "stream",
     "text": [
      "['Negative', 'Negative', 'Positive', 'Positive', 'Positive', 'Negative', 'Neutral', 'Positive', 'Negative', 'Negative']\n"
     ]
    }
   ],
   "source": [
    "# Set openai api key\n",
    "openai.apikey = open_ai_api_key\n",
    "\n",
    "client = openai.OpenAI()\n",
    "\n",
    "def get_sentiment(text):\n",
    "    prompt = f\"Analyze the sentiment of the following text as positive, negative, or neutral. Respond with a single word: {text}\"\n",
    "    response = client.chat.completions.create(\n",
    "        model=\"gpt-4o-mini\",\n",
    "        messages=[{\"role\": \"user\", \"content\": prompt}],\n",
    "        max_tokens=10\n",
    "    )\n",
    "    return response.choices[0].message.content.strip()\n",
    "\n",
    "# Initialize an empty list to store sentiments\n",
    "sentiments = []\n",
    "\n",
    "# Determine the number of articles to process (up to a maximum of 10)\n",
    "num_articles = min(10, len(article_info_df))\n",
    "\n",
    "# Iterate over the selected articles\n",
    "for i in range(num_articles):\n",
    "    # Get sentiment of the article's description\n",
    "    article = article_info_df.iloc[i]\n",
    "    sentiment = get_sentiment(article['description'])\n",
    "    sentiments.append(sentiment)\n",
    "    \n",
    "    # Pause after every 3 requests to respect the API rate limit\n",
    "    if (i + 1) % 3 == 0:\n",
    "        time.sleep(61)\n",
    "\n",
    "print(sentiments)"
   ]
  },
  {
   "cell_type": "code",
   "execution_count": 22,
   "id": "3166396f",
   "metadata": {},
   "outputs": [
    {
     "data": {
      "image/png": "[encoded data removed]",
      "text/plain": [
       "<Figure size 800x600 with 1 Axes>"
      ]
     },
     "metadata": {},
     "output_type": "display_data"
    }
   ],
   "source": [
    "# Count occurrences of each keyword\n",
    "keyword_counts = Counter(sentiments)\n",
    "\n",
    "# Separate the data into labels and sizes for the pie chart\n",
    "labels = keyword_counts.keys()\n",
    "sizes = keyword_counts.values()\n",
    "\n",
    "# Create the pie chart\n",
    "plt.figure(figsize=(8, 6))\n",
    "plt.pie(sizes, labels=labels, autopct='%1.1f%%', startangle=140)\n",
    "plt.title(f'Sentiment Pie Chart for query: {user_query}')\n",
    "plt.show()"
   ]
  }
 ],
 "metadata": {
  "kernelspec": {
   "display_name": "Python 3 (ipykernel)",
   "language": "python",
   "name": "python3"
  },
  "language_info": {
   "codemirror_mode": {
    "name": "ipython",
    "version": 3
   },
   "file_extension": ".py",
   "mimetype": "text/x-python",
   "name": "python",
   "nbconvert_exporter": "python",
   "pygments_lexer": "ipython3",
   "version": "3.10.7"
  }
 },
 "nbformat": 4,
 "nbformat_minor": 5
}
