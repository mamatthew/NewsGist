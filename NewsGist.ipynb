{
 "cells": [
  {
   "cell_type": "code",
   "execution_count": 5,
   "id": "f7c9cc59",
   "metadata": {},
   "outputs": [
    {
     "name": "stdout",
     "output_type": "stream",
     "text": [
      "Requirement already satisfied: python-dotenv in c:\\users\\matth\\appdata\\local\\programs\\python\\python310\\lib\\site-packages (1.0.1)\n",
      "Requirement already satisfied: newsdataapi in c:\\users\\matth\\appdata\\local\\programs\\python\\python310\\lib\\site-packages (0.1.21)\n",
      "Requirement already satisfied: requests<3.0.0 in c:\\users\\matth\\appdata\\local\\programs\\python\\python310\\lib\\site-packages (from newsdataapi) (2.28.1)\n",
      "Requirement already satisfied: charset-normalizer<3,>=2 in c:\\users\\matth\\appdata\\local\\programs\\python\\python310\\lib\\site-packages (from requests<3.0.0->newsdataapi) (2.1.1)\n",
      "Requirement already satisfied: idna<4,>=2.5 in c:\\users\\matth\\appdata\\local\\programs\\python\\python310\\lib\\site-packages (from requests<3.0.0->newsdataapi) (3.3)\n",
      "Requirement already satisfied: urllib3<1.27,>=1.21.1 in c:\\users\\matth\\appdata\\local\\programs\\python\\python310\\lib\\site-packages (from requests<3.0.0->newsdataapi) (1.26.12)\n",
      "Requirement already satisfied: certifi>=2017.4.17 in c:\\users\\matth\\appdata\\local\\programs\\python\\python310\\lib\\site-packages (from requests<3.0.0->newsdataapi) (2022.6.15.1)\n",
      "Collecting openai\n",
      "  Downloading openai-1.53.0-py3-none-any.whl.metadata (24 kB)\n",
      "Requirement already satisfied: anyio<5,>=3.5.0 in c:\\users\\matth\\appdata\\local\\programs\\python\\python310\\lib\\site-packages (from openai) (3.6.1)\n",
      "Collecting distro<2,>=1.7.0 (from openai)\n",
      "  Downloading distro-1.9.0-py3-none-any.whl.metadata (6.8 kB)\n",
      "Collecting httpx<1,>=0.23.0 (from openai)\n",
      "  Downloading httpx-0.27.2-py3-none-any.whl.metadata (7.1 kB)\n",
      "Collecting jiter<1,>=0.4.0 (from openai)\n",
      "  Downloading jiter-0.7.0-cp310-none-win_amd64.whl.metadata (5.3 kB)\n",
      "Requirement already satisfied: pydantic<3,>=1.9.0 in c:\\users\\matth\\appdata\\local\\programs\\python\\python310\\lib\\site-packages (from openai) (1.10.2)\n",
      "Requirement already satisfied: sniffio in c:\\users\\matth\\appdata\\local\\programs\\python\\python310\\lib\\site-packages (from openai) (1.3.0)\n",
      "Requirement already satisfied: tqdm>4 in c:\\users\\matth\\appdata\\local\\programs\\python\\python310\\lib\\site-packages (from openai) (4.64.1)\n",
      "Requirement already satisfied: typing-extensions<5,>=4.11 in c:\\users\\matth\\appdata\\local\\programs\\python\\python310\\lib\\site-packages (from openai) (4.12.2)\n",
      "Requirement already satisfied: idna>=2.8 in c:\\users\\matth\\appdata\\local\\programs\\python\\python310\\lib\\site-packages (from anyio<5,>=3.5.0->openai) (3.3)\n",
      "Requirement already satisfied: certifi in c:\\users\\matth\\appdata\\local\\programs\\python\\python310\\lib\\site-packages (from httpx<1,>=0.23.0->openai) (2022.6.15.1)\n",
      "Collecting httpcore==1.* (from httpx<1,>=0.23.0->openai)\n",
      "  Downloading httpcore-1.0.6-py3-none-any.whl.metadata (21 kB)\n",
      "Requirement already satisfied: h11<0.15,>=0.13 in c:\\users\\matth\\appdata\\local\\programs\\python\\python310\\lib\\site-packages (from httpcore==1.*->httpx<1,>=0.23.0->openai) (0.14.0)\n",
      "Requirement already satisfied: colorama in c:\\users\\matth\\appdata\\local\\programs\\python\\python310\\lib\\site-packages (from tqdm>4->openai) (0.4.5)\n",
      "Downloading openai-1.53.0-py3-none-any.whl (387 kB)\n",
      "Downloading distro-1.9.0-py3-none-any.whl (20 kB)\n",
      "Downloading httpx-0.27.2-py3-none-any.whl (76 kB)\n",
      "Downloading httpcore-1.0.6-py3-none-any.whl (78 kB)\n",
      "Downloading jiter-0.7.0-cp310-none-win_amd64.whl (202 kB)\n",
      "Installing collected packages: jiter, httpcore, distro, httpx, openai\n",
      "Successfully installed distro-1.9.0 httpcore-1.0.6 httpx-0.27.2 jiter-0.7.0 openai-1.53.0\n"
     ]
    }
   ],
   "source": [
    "!pip install python-dotenv\n",
    "!pip install newsdataapi\n",
    "!pip install openai"
   ]
  },
  {
   "cell_type": "code",
   "execution_count": 7,
   "id": "e20dd277",
   "metadata": {},
   "outputs": [],
   "source": [
    "from dotenv import load_dotenv\n",
    "from newsdataapi import NewsDataApiClient\n",
    "import os\n",
    "import openai\n",
    "import requests"
   ]
  },
  {
   "cell_type": "code",
   "execution_count": 11,
   "id": "19a59b90",
   "metadata": {},
   "outputs": [],
   "source": [
    "load_dotenv()\n",
    "\n",
    "open_ai_api_key = os.getenv('OPENAI_API_KEY')\n",
    "newsdata_api_key = os.getenv('NEWSIO_API_KEY')\n",
    "\n",
    "newsdata_api = NewsDataApiClient(apikey=newsdata_api_key)"
   ]
  },
  {
   "cell_type": "code",
   "execution_count": 14,
   "id": "377166f3",
   "metadata": {},
   "outputs": [
    {
     "name": "stdout",
     "output_type": "stream",
     "text": [
      "Enter a query for news articles: Trump\n",
      "{'status': 'success', 'totalResults': 7689, 'results': [{'article_id': 'a687fb6a986751bdb808e3fea0413552', 'title': 'Final NYT/Siena Poll Shows Harris, Trump Leading in Different Key Battleground States', 'link': 'https://www.theepochtimes.com/us/final-nyt-siena-poll-shows-harris-trump-leading-in-different-key-battleground-states-5753183', 'keywords': ['us news', 'battleground states', 'presidential race', '2024 elections', 'us', 'us politics'], 'creator': ['Jacob Burg'], 'video_url': None, 'description': 'The poll suggests each candidate has multiple pathways to secure the 270 electoral votes needed to win the election.', 'content': 'ONLY AVAILABLE IN PAID PLANS', 'pubDate': '2024-11-03 17:39:52', 'pubDateTZ': 'UTC', 'image_url': 'https://img.theepochtimes.com/assets/uploads/2024/11/03/id5753178-trump-harris-MixCollage-03-Nov-2024-02-49-PM-8502-1080x720.jpg', 'source_id': 'theepochtimes', 'source_priority': 10731, 'source_name': 'The Epoch Times', 'source_url': 'https://www.theepochtimes.com', 'source_icon': 'https://i.bytvi.com/domain_icons/theepochtimes.png', 'language': 'english', 'country': ['united states of america'], 'category': ['politics'], 'ai_tag': 'ONLY AVAILABLE IN PROFESSIONAL AND CORPORATE PLANS', 'sentiment': 'ONLY AVAILABLE IN PROFESSIONAL AND CORPORATE PLANS', 'sentiment_stats': 'ONLY AVAILABLE IN PROFESSIONAL AND CORPORATE PLANS', 'ai_region': 'ONLY AVAILABLE IN CORPORATE PLANS', 'ai_org': 'ONLY AVAILABLE IN CORPORATE PLANS', 'duplicate': False}, {'article_id': 'c3ec7af895f5030ece03e690b64928db', 'title': 'Trump speaks in battleground Pennsylvania, Harris makes Michigan push', 'link': 'https://www.gmanetwork.com/news/topstories/world/925869/trump-speaks-in-battleground-pennsylvania-harris-makes-michigan-push/story/', 'keywords': None, 'creator': None, 'video_url': None, 'description': 'Donald Trump made a last pitch for support in Pennsylvania, the largest of the seven states seen to decide the US presidential election, while Kamala Harris focused her energy on Michigan.', 'content': 'ONLY AVAILABLE IN PAID PLANS', 'pubDate': '2024-11-03 17:38:56', 'pubDateTZ': 'UTC', 'image_url': 'https://images.gmanews.tv/webpics/2024/11/2024-11-03T173327Z_1868581030_RC2NXAAQDQTO_RTRMADP_3_USA-ELECTION-HARRIS_2024_11_04_01_37_04.JPG', 'source_id': 'gmanetwork_ph', 'source_priority': 13102, 'source_name': 'Gma News Online', 'source_url': 'https://www.gmanetwork.com/news', 'source_icon': 'https://i.bytvi.com/domain_icons/gmanetwork_ph.png', 'language': 'english', 'country': ['philippines'], 'category': ['world'], 'ai_tag': 'ONLY AVAILABLE IN PROFESSIONAL AND CORPORATE PLANS', 'sentiment': 'ONLY AVAILABLE IN PROFESSIONAL AND CORPORATE PLANS', 'sentiment_stats': 'ONLY AVAILABLE IN PROFESSIONAL AND CORPORATE PLANS', 'ai_region': 'ONLY AVAILABLE IN CORPORATE PLANS', 'ai_org': 'ONLY AVAILABLE IN CORPORATE PLANS', 'duplicate': True}, {'article_id': '643842d6afb647db1199bb267f1d10a0', 'title': 'AP News Summary at 12:38 p.m. EST', 'link': 'https://www.dailysentinel.com/anpa/us/ap-news-summary-at-12-38-p-m-est/article_f65bba92-4545-532f-9bd5-8b3edfba51fc.html', 'keywords': None, 'creator': ['AP'], 'video_url': None, 'description': \"Trump wants to narrow his deficit with women but he's not changing how he talks about them\", 'content': 'ONLY AVAILABLE IN PAID PLANS', 'pubDate': '2024-11-03 17:38:32', 'pubDateTZ': 'UTC', 'image_url': None, 'source_id': 'dailysentinel', 'source_priority': 148369, 'source_name': 'Dailysentinel', 'source_url': 'https://www.dailysentinel.com', 'source_icon': 'https://i.bytvi.com/domain_icons/dailysentinel.jpg', 'language': 'english', 'country': ['united states of america'], 'category': ['other'], 'ai_tag': 'ONLY AVAILABLE IN PROFESSIONAL AND CORPORATE PLANS', 'sentiment': 'ONLY AVAILABLE IN PROFESSIONAL AND CORPORATE PLANS', 'sentiment_stats': 'ONLY AVAILABLE IN PROFESSIONAL AND CORPORATE PLANS', 'ai_region': 'ONLY AVAILABLE IN CORPORATE PLANS', 'ai_org': 'ONLY AVAILABLE IN CORPORATE PLANS', 'duplicate': False}, {'article_id': '3eabce660d2b041bf0e06b423f85b597', 'title': 'AP News Summary at 12:38 p.m. EST', 'link': 'https://www.eagletribune.com/region/ap-news-summary-at-12-38-p-m-est/article_b0e16770-05e2-5121-87af-2d1df8611134.html', 'keywords': None, 'creator': None, 'video_url': None, 'description': \"Trump wants to narrow his deficit with women but he's not changing how he talks about them\", 'content': 'ONLY AVAILABLE IN PAID PLANS', 'pubDate': '2024-11-03 17:38:32', 'pubDateTZ': 'UTC', 'image_url': None, 'source_id': 'eagletribune', 'source_priority': 17884, 'source_name': 'Eagletribune', 'source_url': 'https://www.eagletribune.com', 'source_icon': 'https://i.bytvi.com/domain_icons/eagletribune.png', 'language': 'english', 'country': ['united states of america'], 'category': ['top'], 'ai_tag': 'ONLY AVAILABLE IN PROFESSIONAL AND CORPORATE PLANS', 'sentiment': 'ONLY AVAILABLE IN PROFESSIONAL AND CORPORATE PLANS', 'sentiment_stats': 'ONLY AVAILABLE IN PROFESSIONAL AND CORPORATE PLANS', 'ai_region': 'ONLY AVAILABLE IN CORPORATE PLANS', 'ai_org': 'ONLY AVAILABLE IN CORPORATE PLANS', 'duplicate': True}, {'article_id': 'd518a7ffd91ef7db78939d17578e6731', 'title': 'AP News Summary at 12:38 p.m. EST', 'link': 'https://www.oskaloosa.com/news/national_news/ap-news-summary-at-12-38-p-m-est/article_67882e0b-0ebb-595c-95f4-f38d18a278fe.html', 'keywords': None, 'creator': ['AP'], 'video_url': None, 'description': \"Trump wants to narrow his deficit with women but he's not changing how he talks about them\", 'content': 'ONLY AVAILABLE IN PAID PLANS', 'pubDate': '2024-11-03 17:38:32', 'pubDateTZ': 'UTC', 'image_url': None, 'source_id': 'oskaloosa', 'source_priority': 1406947, 'source_name': 'Oskaloosa', 'source_url': 'https://www.oskaloosa.com', 'source_icon': 'https://i.bytvi.com/domain_icons/oskaloosa.jpg', 'language': 'english', 'country': ['united states of america'], 'category': ['top'], 'ai_tag': 'ONLY AVAILABLE IN PROFESSIONAL AND CORPORATE PLANS', 'sentiment': 'ONLY AVAILABLE IN PROFESSIONAL AND CORPORATE PLANS', 'sentiment_stats': 'ONLY AVAILABLE IN PROFESSIONAL AND CORPORATE PLANS', 'ai_region': 'ONLY AVAILABLE IN CORPORATE PLANS', 'ai_org': 'ONLY AVAILABLE IN CORPORATE PLANS', 'duplicate': True}, {'article_id': 'd0d3678667d37b50828577081e244ff2', 'title': 'AP News Summary at 12:38 p.m. EST', 'link': 'https://www.newspressnow.com/news/national_news/ap-news-summary-at-12-38-p-m-est/article_1db6363a-391c-52c4-add0-519f697d7e02.html', 'keywords': None, 'creator': ['AP'], 'video_url': None, 'description': \"Trump wants to narrow his deficit with women but he's not changing how he talks about them\", 'content': 'ONLY AVAILABLE IN PAID PLANS', 'pubDate': '2024-11-03 17:38:32', 'pubDateTZ': 'UTC', 'image_url': None, 'source_id': 'newspressnow', 'source_priority': 25747, 'source_name': 'Newspressnow', 'source_url': 'https://www.newspressnow.com', 'source_icon': 'https://i.bytvi.com/domain_icons/newspressnow.jpg', 'language': 'english', 'country': ['united states of america'], 'category': ['top'], 'ai_tag': 'ONLY AVAILABLE IN PROFESSIONAL AND CORPORATE PLANS', 'sentiment': 'ONLY AVAILABLE IN PROFESSIONAL AND CORPORATE PLANS', 'sentiment_stats': 'ONLY AVAILABLE IN PROFESSIONAL AND CORPORATE PLANS', 'ai_region': 'ONLY AVAILABLE IN CORPORATE PLANS', 'ai_org': 'ONLY AVAILABLE IN CORPORATE PLANS', 'duplicate': True}, {'article_id': '86e4e9cf230088611d71df62d425fb7e', 'title': 'AP News Summary at 12:38 p.m. EST', 'link': 'https://www.woonsocketcall.com/news/national_and_world_news/ap-news-summary-at-12-38-p-m-est/article_d1c9199d-804b-586d-ad4e-95acf47392fe.html', 'keywords': None, 'creator': ['AP'], 'video_url': None, 'description': \"Trump wants to narrow his deficit with women but he's not changing how he talks about them\", 'content': 'ONLY AVAILABLE IN PAID PLANS', 'pubDate': '2024-11-03 17:38:32', 'pubDateTZ': 'UTC', 'image_url': None, 'source_id': 'woonsocketcall', 'source_priority': 246309, 'source_name': 'Woonsocketcall', 'source_url': 'https://www.woonsocketcall.com', 'source_icon': 'https://i.bytvi.com/domain_icons/woonsocketcall.jpg', 'language': 'english', 'country': ['united states of america'], 'category': ['top'], 'ai_tag': 'ONLY AVAILABLE IN PROFESSIONAL AND CORPORATE PLANS', 'sentiment': 'ONLY AVAILABLE IN PROFESSIONAL AND CORPORATE PLANS', 'sentiment_stats': 'ONLY AVAILABLE IN PROFESSIONAL AND CORPORATE PLANS', 'ai_region': 'ONLY AVAILABLE IN CORPORATE PLANS', 'ai_org': 'ONLY AVAILABLE IN CORPORATE PLANS', 'duplicate': True}, {'article_id': '92ded0cc112df1d23f3c77ec315c0794', 'title': 'AP News Summary at 12:38 p.m. EST', 'link': 'https://www.richmondregister.com/ap/national/ap-news-summary-at-12-38-p-m-est/article_5dd3bc38-5959-589d-acb7-c4c2d71e9b83.html', 'keywords': None, 'creator': ['AP'], 'video_url': None, 'description': \"Trump wants to narrow his deficit with women but he's not changing how he talks about them\", 'content': 'ONLY AVAILABLE IN PAID PLANS', 'pubDate': '2024-11-03 17:38:32', 'pubDateTZ': 'UTC', 'image_url': None, 'source_id': 'richmondregister', 'source_priority': 575353, 'source_name': 'Richmondregister', 'source_url': 'https://www.richmondregister.com', 'source_icon': 'https://i.bytvi.com/domain_icons/richmondregister.jpg', 'language': 'english', 'country': ['united states of america'], 'category': ['top'], 'ai_tag': 'ONLY AVAILABLE IN PROFESSIONAL AND CORPORATE PLANS', 'sentiment': 'ONLY AVAILABLE IN PROFESSIONAL AND CORPORATE PLANS', 'sentiment_stats': 'ONLY AVAILABLE IN PROFESSIONAL AND CORPORATE PLANS', 'ai_region': 'ONLY AVAILABLE IN CORPORATE PLANS', 'ai_org': 'ONLY AVAILABLE IN CORPORATE PLANS', 'duplicate': True}, {'article_id': '285a9b9353c45426f2dda3f0b15a7f79', 'title': \"‘Immigrants' Daughter, Product Of Poverty’: Cardi B Hits Back At Elon Musk After He Called Rapper ‘Puppet Of Kamala Harris’\", 'link': 'https://english.jagran.com/us/immigrants-daughter-product-of-poverty-cardi-b-hits-back-at-elon-musk-after-he-called-rapper-puppet-of-kamala-harris-10198531', 'keywords': None, 'creator': None, 'video_url': None, 'description': 'Cardi b,cardi b elon musk,elon musk immigrant,kamala harris rally cardi b,Donald Trump,Kamala Harris,US presidential elections,us polls 2024,polls,survey,us elections survey,swing states,white house race,joe biden,republican,who will be next us president,next us president', 'content': 'ONLY AVAILABLE IN PAID PLANS', 'pubDate': '2024-11-03 17:38:29', 'pubDateTZ': 'UTC', 'image_url': 'https://imgeng.jagran.com/images/2024/11/03/article/image/Cardi-B-Elon-Musk-1730655206794.webp', 'source_id': 'english_jagran', 'source_priority': 10561, 'source_name': 'Jagran English', 'source_url': 'https://english.jagran.com', 'source_icon': 'https://i.bytvi.com/domain_icons/english_jagran.png', 'language': 'english', 'country': ['india'], 'category': ['top'], 'ai_tag': 'ONLY AVAILABLE IN PROFESSIONAL AND CORPORATE PLANS', 'sentiment': 'ONLY AVAILABLE IN PROFESSIONAL AND CORPORATE PLANS', 'sentiment_stats': 'ONLY AVAILABLE IN PROFESSIONAL AND CORPORATE PLANS', 'ai_region': 'ONLY AVAILABLE IN CORPORATE PLANS', 'ai_org': 'ONLY AVAILABLE IN CORPORATE PLANS', 'duplicate': False}, {'article_id': '289350366c489e6c97cdb3c5613046dd', 'title': 'Motorsport: Good day for Donegal at Kerry Winter Rally', 'link': 'https://highlandradio.com/2024/11/03/motorsport-good-day-for-donegal-at-kerry-winter-rally/', 'keywords': ['sport', 'audio'], 'creator': ['highlandsport'], 'video_url': None, 'description': 'It’s been a successful day for Donegal drivers and co-drivers at the Kerry Winter Stages Rally. With more, here’s Highland’s Oisin Kelly...The post Motorsport: Good day for Donegal at Kerry Winter Rally appeared first on Highland Radio - Latest Donegal News and Sport.', 'content': 'ONLY AVAILABLE IN PAID PLANS', 'pubDate': '2024-11-03 17:37:42', 'pubDateTZ': 'UTC', 'image_url': 'https://highlandradio.com/wp-content/uploads/2024/11/kerry-rally-car.png', 'source_id': 'highlandradio', 'source_priority': 491311, 'source_name': 'Highland Radio', 'source_url': 'https://www.highlandradio.com', 'source_icon': 'https://i.bytvi.com/domain_icons/highlandradio.png', 'language': 'english', 'country': ['ireland'], 'category': ['top'], 'ai_tag': 'ONLY AVAILABLE IN PROFESSIONAL AND CORPORATE PLANS', 'sentiment': 'ONLY AVAILABLE IN PROFESSIONAL AND CORPORATE PLANS', 'sentiment_stats': 'ONLY AVAILABLE IN PROFESSIONAL AND CORPORATE PLANS', 'ai_region': 'ONLY AVAILABLE IN CORPORATE PLANS', 'ai_org': 'ONLY AVAILABLE IN CORPORATE PLANS', 'duplicate': False}], 'nextPage': '1730655462028658224'}\n"
     ]
    }
   ],
   "source": [
    "def get_news_articles(query):\n",
    "    url = f'https://newsdata.io/api/1/latest?apikey={newsdata_api_key}&q={query}&language=en'\n",
    "    response = requests.get(url)\n",
    "    if (response.status_code == 200):\n",
    "        return response.json()\n",
    "    else:\n",
    "        print(\"Error fetching articles.\")\n",
    "        return None\n",
    "    \n",
    "user_query = input(\"Enter a query for news articles: \")\n",
    "\n",
    "articles = get_news_articles(user_query)\n",
    "\n",
    "print(articles)"
   ]
  }
 ],
 "metadata": {
  "kernelspec": {
   "display_name": "Python 3 (ipykernel)",
   "language": "python",
   "name": "python3"
  },
  "language_info": {
   "codemirror_mode": {
    "name": "ipython",
    "version": 3
   },
   "file_extension": ".py",
   "mimetype": "text/x-python",
   "name": "python",
   "nbconvert_exporter": "python",
   "pygments_lexer": "ipython3",
   "version": "3.10.7"
  }
 },
 "nbformat": 4,
 "nbformat_minor": 5
}
